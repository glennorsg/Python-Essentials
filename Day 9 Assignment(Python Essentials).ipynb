{
 "cells": [
  {
   "cell_type": "code",
   "execution_count": 1,
   "metadata": {},
   "outputs": [
    {
     "name": "stdout",
     "output_type": "stream",
     "text": [
      "Collecting pylint\n",
      "  Downloading pylint-2.6.0-py3-none-any.whl (325 kB)\n",
      "Collecting astroid<=2.5,>=2.4.0\n",
      "  Downloading astroid-2.4.2-py3-none-any.whl (213 kB)\n",
      "Collecting toml>=0.7.1\n",
      "  Downloading toml-0.10.1-py2.py3-none-any.whl (19 kB)\n",
      "Requirement already satisfied, skipping upgrade: colorama; sys_platform == \"win32\" in c:\\programdata\\anaconda3\\lib\\site-packages (from pylint) (0.4.3)\n",
      "Requirement already satisfied, skipping upgrade: isort<6,>=4.2.5 in c:\\programdata\\anaconda3\\lib\\site-packages (from pylint) (4.3.21)\n",
      "Requirement already satisfied, skipping upgrade: mccabe<0.7,>=0.6 in c:\\programdata\\anaconda3\\lib\\site-packages (from pylint) (0.6.1)\n",
      "Requirement already satisfied, skipping upgrade: wrapt~=1.11 in c:\\programdata\\anaconda3\\lib\\site-packages (from astroid<=2.5,>=2.4.0->pylint) (1.11.2)\n",
      "Requirement already satisfied, skipping upgrade: six~=1.12 in c:\\programdata\\anaconda3\\lib\\site-packages (from astroid<=2.5,>=2.4.0->pylint) (1.14.0)\n",
      "Requirement already satisfied, skipping upgrade: lazy-object-proxy==1.4.* in c:\\programdata\\anaconda3\\lib\\site-packages (from astroid<=2.5,>=2.4.0->pylint) (1.4.3)\n",
      "Collecting typed-ast<1.5,>=1.4.0; implementation_name == \"cpython\" and python_version < \"3.8\"\n",
      "  Downloading typed_ast-1.4.1-cp37-cp37m-win_amd64.whl (155 kB)\n",
      "Installing collected packages: typed-ast, astroid, toml, pylint\n",
      "  Attempting uninstall: astroid\n",
      "    Found existing installation: astroid 2.3.3\n",
      "    Uninstalling astroid-2.3.3:\n",
      "      Successfully uninstalled astroid-2.3.3\n",
      "  Attempting uninstall: pylint\n",
      "    Found existing installation: pylint 2.4.4\n",
      "    Uninstalling pylint-2.4.4:\n",
      "      Successfully uninstalled pylint-2.4.4\n",
      "Successfully installed astroid-2.4.2 pylint-2.6.0 toml-0.10.1 typed-ast-1.4.1\n"
     ]
    },
    {
     "name": "stderr",
     "output_type": "stream",
     "text": [
      "ERROR: spyder 4.0.1 requires pyqt5<5.13; python_version >= \"3\", which is not installed.\n",
      "ERROR: spyder 4.0.1 requires pyqtwebengine<5.13; python_version >= \"3\", which is not installed.\n"
     ]
    }
   ],
   "source": [
    "! pip install pylint --upgrade"
   ]
  },
  {
   "cell_type": "code",
   "execution_count": 2,
   "metadata": {},
   "outputs": [
    {
     "name": "stdout",
     "output_type": "stream",
     "text": [
      "Requirement already satisfied: pylint in c:\\programdata\\anaconda3\\lib\\site-packages (2.6.0)\n",
      "Requirement already satisfied: mccabe<0.7,>=0.6 in c:\\programdata\\anaconda3\\lib\\site-packages (from pylint) (0.6.1)\n",
      "Requirement already satisfied: colorama; sys_platform == \"win32\" in c:\\programdata\\anaconda3\\lib\\site-packages (from pylint) (0.4.3)\n",
      "Requirement already satisfied: isort<6,>=4.2.5 in c:\\programdata\\anaconda3\\lib\\site-packages (from pylint) (4.3.21)\n",
      "Requirement already satisfied: toml>=0.7.1 in c:\\programdata\\anaconda3\\lib\\site-packages (from pylint) (0.10.1)\n",
      "Requirement already satisfied: astroid<=2.5,>=2.4.0 in c:\\programdata\\anaconda3\\lib\\site-packages (from pylint) (2.4.2)\n",
      "Requirement already satisfied: lazy-object-proxy==1.4.* in c:\\programdata\\anaconda3\\lib\\site-packages (from astroid<=2.5,>=2.4.0->pylint) (1.4.3)\n",
      "Requirement already satisfied: typed-ast<1.5,>=1.4.0; implementation_name == \"cpython\" and python_version < \"3.8\" in c:\\programdata\\anaconda3\\lib\\site-packages (from astroid<=2.5,>=2.4.0->pylint) (1.4.1)\n",
      "Requirement already satisfied: wrapt~=1.11 in c:\\programdata\\anaconda3\\lib\\site-packages (from astroid<=2.5,>=2.4.0->pylint) (1.11.2)\n",
      "Requirement already satisfied: six~=1.12 in c:\\programdata\\anaconda3\\lib\\site-packages (from astroid<=2.5,>=2.4.0->pylint) (1.14.0)\n"
     ]
    }
   ],
   "source": [
    "! pip install pylint"
   ]
  },
  {
   "cell_type": "markdown",
   "metadata": {},
   "source": [
    "### Question 1 (Pylint  and Unittest)"
   ]
  },
  {
   "cell_type": "code",
   "execution_count": 1,
   "metadata": {},
   "outputs": [
    {
     "name": "stdout",
     "output_type": "stream",
     "text": [
      "Overwriting prime_number.py\n"
     ]
    }
   ],
   "source": [
    "%%writefile prime_number.py\n",
    "'''\n",
    "Program to find is a number is prime\n",
    "'''\n",
    "def prime(num):\n",
    "    '''\n",
    "    Checks if a n is prime.\n",
    "    '''\n",
    "    for i in range(2,num):\n",
    "        if num%i == 0:\n",
    "            break\n",
    "    else:\n",
    "        return True\n",
    "    return False"
   ]
  },
  {
   "cell_type": "code",
   "execution_count": 2,
   "metadata": {},
   "outputs": [
    {
     "name": "stdout",
     "output_type": "stream",
     "text": [
      "\n",
      "--------------------------------------------------------------------\n",
      "\n",
      "Your code has been rated at 10.00/10 (previous run: 10.00/10, +0.00)\n",
      "\n",
      "\n",
      "\n"
     ]
    }
   ],
   "source": [
    "! pylint prime_number.py"
   ]
  },
  {
   "cell_type": "raw",
   "metadata": {},
   "source": [
    "# ************* Module prime_number\n",
    "\n",
    "prime_number.py:1:0: C0114: Missing module docstring (missing-module-docstring)\n",
    "\n",
    "prime_number.py:2:0: C0103: Argument name \"n\" doesn't conform to snake_case naming style (invalid-name)\n",
    "\n",
    "prime_number.py:2:0: C0116: Missing function or method docstring (missing-function-docstring)\n",
    "\n",
    "prime_number.py:2:10: W0621: Redefining name 'n' from outer scope (line 10) (redefined-outer-name)\n",
    "\n",
    "prime_number.py:11:3: C0121: Comparison to True should be just 'expr' (singleton-comparison)\n",
    "\n",
    "-----------------------------------\n",
    "\n",
    "Your code has been rated at 5.00/10"
   ]
  },
  {
   "cell_type": "raw",
   "metadata": {},
   "source": [
    "************* Module prime_number\n",
    "\n",
    "prime_number.py:16:3: C0121: Comparison to True should be just 'expr' (singleton-comparison)\n",
    "\n",
    "------------------------------------------------------------------\n",
    "\n",
    "Your code has been rated at 9.00/10 (previous run: 5.00/10, +4.00)\n"
   ]
  },
  {
   "cell_type": "code",
   "execution_count": 3,
   "metadata": {},
   "outputs": [
    {
     "name": "stdout",
     "output_type": "stream",
     "text": [
      "Overwriting prime_number_test.py\n"
     ]
    }
   ],
   "source": [
    "%%writefile prime_number_test.py\n",
    "\n",
    "import unittest\n",
    "import prime_number\n",
    "\n",
    "class testPrimeNumber(unittest.TestCase):\n",
    "    def testPrime(self):\n",
    "        res = prime_number.prime(3)\n",
    "        self.assertEqual(res,True)\n",
    "    \n",
    "    def testNotPrime(self):\n",
    "        res = prime_number.prime(9)\n",
    "        self.assertEqual(res,False)\n",
    "\n",
    "if __name__ == \"__main__\":\n",
    "    unittest.main()"
   ]
  },
  {
   "cell_type": "code",
   "execution_count": 10,
   "metadata": {},
   "outputs": [
    {
     "name": "stderr",
     "output_type": "stream",
     "text": [
      "testNotPrime (__main__.testPrimeNumber) ... ok\n",
      "testPrime (__main__.testPrimeNumber) ... ok\n",
      "\n",
      "----------------------------------------------------------------------\n",
      "Ran 2 tests in 0.000s\n",
      "\n",
      "OK\n"
     ]
    }
   ],
   "source": [
    "! python prime_number_test.py -v"
   ]
  },
  {
   "cell_type": "markdown",
   "metadata": {},
   "source": [
    "### Question 2 (Armstrong number using Generator)"
   ]
  },
  {
   "cell_type": "code",
   "execution_count": 4,
   "metadata": {},
   "outputs": [
    {
     "name": "stdout",
     "output_type": "stream",
     "text": [
      "[1, 2, 3, 4, 5, 6, 7, 8, 9, 153, 370, 371, 407]\n"
     ]
    }
   ],
   "source": [
    "def isArmstrong(n):\n",
    "    numSum = 0\n",
    "    temp = n\n",
    "    p = len(str(abs(n)))\n",
    "    while n>0:\n",
    "        r = n%10\n",
    "        numSum += (r**p)\n",
    "        n = n//10\n",
    "    if numSum == temp :\n",
    "        return True\n",
    "    else:\n",
    "        return False\n",
    "\n",
    "def generateArmstrong(listRange):\n",
    "    for i in listRange:\n",
    "        if isArmstrong(i):\n",
    "            yield i;\n",
    "        i = i+1\n",
    "\n",
    "print(list(generateArmstrong(range(1,1001))))\n",
    "\n",
    "\n",
    "        "
   ]
  },
  {
   "cell_type": "code",
   "execution_count": null,
   "metadata": {},
   "outputs": [],
   "source": []
  }
 ],
 "metadata": {
  "kernelspec": {
   "display_name": "Python 3",
   "language": "python",
   "name": "python3"
  },
  "language_info": {
   "codemirror_mode": {
    "name": "ipython",
    "version": 3
   },
   "file_extension": ".py",
   "mimetype": "text/x-python",
   "name": "python",
   "nbconvert_exporter": "python",
   "pygments_lexer": "ipython3",
   "version": "3.7.6"
  }
 },
 "nbformat": 4,
 "nbformat_minor": 4
}
