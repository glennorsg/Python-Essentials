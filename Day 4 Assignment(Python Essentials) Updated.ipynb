{
 "cells": [
  {
   "cell_type": "markdown",
   "metadata": {},
   "source": [
    "### First Armstrong Number b/w 1042000 and 702648265"
   ]
  },
  {
   "cell_type": "code",
   "execution_count": 1,
   "metadata": {},
   "outputs": [
    {
     "name": "stdout",
     "output_type": "stream",
     "text": [
      "The first Armstrong Number is- 1741725\n"
     ]
    }
   ],
   "source": [
    "def isArmstrong(n):\n",
    "    sum = 0\n",
    "    temp = n\n",
    "    p = len(str(abs(n)))\n",
    "    while(n>0):\n",
    "        r= n%10\n",
    "        sum = sum + pow(r,p)\n",
    "        n = n//10\n",
    "    return sum == temp\n",
    "\n",
    "for i in range(1042000,702648266, 1):\n",
    "    if isArmstrong(i) == True:\n",
    "        print(\"The first Armstrong Number is-\", i)\n",
    "        break;"
   ]
  },
  {
   "cell_type": "code",
   "execution_count": null,
   "metadata": {},
   "outputs": [],
   "source": []
  }
 ],
 "metadata": {
  "kernelspec": {
   "display_name": "Python 3",
   "language": "python",
   "name": "python3"
  },
  "language_info": {
   "codemirror_mode": {
    "name": "ipython",
    "version": 3
   },
   "file_extension": ".py",
   "mimetype": "text/x-python",
   "name": "python",
   "nbconvert_exporter": "python",
   "pygments_lexer": "ipython3",
   "version": "3.7.6"
  }
 },
 "nbformat": 4,
 "nbformat_minor": 4
}
