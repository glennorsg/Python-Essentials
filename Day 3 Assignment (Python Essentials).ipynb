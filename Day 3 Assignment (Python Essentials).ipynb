{
 "cells": [
  {
   "cell_type": "markdown",
   "metadata": {},
   "source": [
    "### Question 1 (Plane Altitude)"
   ]
  },
  {
   "cell_type": "code",
   "execution_count": 4,
   "metadata": {},
   "outputs": [
    {
     "name": "stdout",
     "output_type": "stream",
     "text": [
      "Type 'exit' to end!\n",
      "\n",
      "Enter Altitude(ft):7600\n",
      "Go Around and try later!\n",
      "\n",
      "Enter Altitude(ft):1000\n",
      "Safe To Land!\n",
      "\n",
      "Enter Altitude(ft):4000\n",
      "Come Down to 1000Ft!!\n",
      "\n",
      "Enter Altitude(ft):exit\n"
     ]
    }
   ],
   "source": [
    "print(\"Type 'exit' to end!\\n\")\n",
    "num = \"\"\n",
    "while num != \"exit\":\n",
    "    num = input(\"Enter Altitude(ft):\")\n",
    "    if (num.isnumeric()) == True:\n",
    "        num = int(num)\n",
    "        if num <= 1000:\n",
    "            print(\"Safe To Land!\\n\")\n",
    "        elif num >1000 and num <= 5000:\n",
    "            print(\"Come Down to 1000Ft!!\\n\")\n",
    "        else:\n",
    "            print(\"Go Around and try later!\\n\")\n",
    "\n",
    "      "
   ]
  },
  {
   "cell_type": "markdown",
   "metadata": {},
   "source": [
    "### Question 2 (Prime Number)"
   ]
  },
  {
   "cell_type": "code",
   "execution_count": 9,
   "metadata": {},
   "outputs": [
    {
     "name": "stdout",
     "output_type": "stream",
     "text": [
      "Prime Numbers between 1 and 200 are:\n",
      "2\t3\t5\t7\t11\t13\t17\t19\t23\t29\t31\t37\t41\t43\t47\t53\t59\t61\t67\t71\t73\t79\t83\t89\t97\t101\t103\t107\t109\t113\t127\t131\t137\t139\t149\t151\t157\t163\t167\t173\t179\t181\t191\t193\t197\t199\t"
     ]
    }
   ],
   "source": [
    "print(\"Prime Numbers between 1 and 200 are:\")\n",
    "for i in range(1,201):\n",
    "    if(i == 1):\n",
    "        continue\n",
    "    for j in range(2,i):\n",
    "        if i%j == 0:\n",
    "            break\n",
    "    else:\n",
    "        print(i,end=\"\\t\")"
   ]
  },
  {
   "cell_type": "code",
   "execution_count": null,
   "metadata": {},
   "outputs": [],
   "source": []
  }
 ],
 "metadata": {
  "kernelspec": {
   "display_name": "Python 3",
   "language": "python",
   "name": "python3"
  },
  "language_info": {
   "codemirror_mode": {
    "name": "ipython",
    "version": 3
   },
   "file_extension": ".py",
   "mimetype": "text/x-python",
   "name": "python",
   "nbconvert_exporter": "python",
   "pygments_lexer": "ipython3",
   "version": "3.7.6"
  }
 },
 "nbformat": 4,
 "nbformat_minor": 4
}
