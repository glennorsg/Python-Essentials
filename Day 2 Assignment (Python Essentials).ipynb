{
 "cells": [
  {
   "cell_type": "markdown",
   "metadata": {},
   "source": [
    "### Question 1 (LIST)"
   ]
  },
  {
   "cell_type": "code",
   "execution_count": 1,
   "metadata": {},
   "outputs": [
    {
     "name": "stdout",
     "output_type": "stream",
     "text": [
      "LIST: [23, 45, 90, 60, 78]\n",
      "\n",
      "Sorted List: [23, 45, 60, 78, 90]\n",
      "\n",
      "Enter a number to append:87\n",
      "Appended List: [23, 45, 60, 78, 90, 87]\n",
      "\n",
      "Enter number to insert:45\n",
      "Position:3\n",
      "Element Inserted: [23, 45, 60, 45, 78, 90, 87]\n",
      "\n",
      "Enter list of numbers:45,78,90,100\n",
      "Extended List: [23, 45, 60, 45, 78, 90, 87, 45, 78, 90, 100]\n",
      "\n",
      "Enter element to remove from the list:60\n",
      "ELement Removed: [23, 45, 45, 78, 90, 87, 45, 78, 90, 100]\n",
      "\n",
      "Enter index to pop element:5\n",
      "Element poped: 87\n",
      "List: [23, 45, 45, 78, 90, 45, 78, 90, 100]\n",
      "\n",
      "Enter element to know index:78\n",
      "Index:  3\n",
      "\n",
      "Enter element to know count:45\n",
      "Count:  3\n",
      "\n",
      "Reversed list: [100, 90, 78, 45, 90, 78, 45, 45, 23]\n",
      "\n",
      "List Cleared: []\n"
     ]
    }
   ],
   "source": [
    "list = [23,45,90,60,78]\n",
    "print(\"LIST:\",list)\n",
    "\n",
    "list.sort()\n",
    "print(\"\\nSorted List:\",list)\n",
    "\n",
    "a = int(input(\"\\nEnter a number to append:\"))\n",
    "list.append(a)\n",
    "print(\"Appended List:\",list)\n",
    "\n",
    "a = int(input(\"\\nEnter number to insert:\"))\n",
    "p = int(input(\"Position:\"))\n",
    "list.insert(p,a)\n",
    "print(\"Element Inserted:\",list)\n",
    "\n",
    "s = input(\"\\nEnter list of numbers:\")\n",
    "l = map(int,s.split(\",\"))\n",
    "list.extend(l)\n",
    "print(\"Extended List:\",list)\n",
    "\n",
    "r = int(input(\"\\nEnter element to remove from the list:\"))\n",
    "list.remove(r)\n",
    "print(\"ELement Removed:\",list)\n",
    "\n",
    "i = int(input(\"\\nEnter index to pop element:\"))\n",
    "print(\"Element poped:\",list.pop(i))\n",
    "print(\"List:\",list)\n",
    "\n",
    "e = int(input(\"\\nEnter element to know index:\"))\n",
    "print(\"Index: \",list.index(e))\n",
    "\n",
    "c = int(input(\"\\nEnter element to know count:\"))\n",
    "print(\"Count: \",list.count(c))\n",
    "\n",
    "list.reverse()\n",
    "print(\"\\nReversed list:\",list)\n",
    "\n",
    "list.clear()\n",
    "print(\"\\nList Cleared:\", list)"
   ]
  },
  {
   "cell_type": "markdown",
   "metadata": {},
   "source": [
    "### Question 2 (Dictionary)"
   ]
  },
  {
   "cell_type": "code",
   "execution_count": 3,
   "metadata": {},
   "outputs": [
    {
     "name": "stdout",
     "output_type": "stream",
     "text": [
      "Dictionary: {'name': 'glenn', 'surname': 'vednesan', 'age': 22, 'from': 'pune'}\n",
      "\n",
      "Enter Key to insert:ab\n",
      "Enter Value:123\n",
      "Element inserted: {'name': 'glenn', 'surname': 'vednesan', 'age': 22, 'from': 'pune', 'ab': '123'}\n",
      "\n",
      "Enter Key to get element:age\n",
      "Element: 22\n",
      "\n",
      "Enter list of keys to create dict:12,hello,90\n",
      "Enter value:xyz\n",
      "Dictionary: {'12': 'xyz', 'hello': 'xyz', '90': 'xyz'}\n",
      "\n",
      "Dictionary Items: dict_items([('name', 'glenn'), ('surname', 'vednesan'), ('age', 22), ('from', 'pune'), ('ab', '123')])\n",
      "\n",
      "Dictionary Keys: dict_keys(['name', 'surname', 'age', 'from', 'ab'])\n",
      "\n",
      "Enter key to pop:from\n",
      "Popped:  pune\n",
      "Dict: {'name': 'glenn', 'surname': 'vednesan', 'age': 22, 'ab': '123'}\n",
      "\n",
      "Popped Item: ('ab', '123')\n",
      "Dict: {'name': 'glenn', 'surname': 'vednesan', 'age': 22}\n",
      "\n",
      "Enter Key to Update:surname\n",
      "Enter Value:McGrath\n",
      "Updated List: {'name': 'glenn', 'surname': 'McGrath', 'age': 22}\n",
      "\n",
      "Dictionary Values: dict_values(['glenn', 'McGrath', 22])\n"
     ]
    }
   ],
   "source": [
    "d = {'name':'glenn','surname':'vednesan','age':22,'from':'pune'}\n",
    "print(\"Dictionary:\",d)\n",
    "\n",
    "k = input(\"\\nEnter Key to insert:\")\n",
    "v = input(\"Enter Value:\")\n",
    "d[k] = v\n",
    "print(\"Element inserted:\",d)\n",
    "\n",
    "k = input(\"\\nEnter Key to get element:\")\n",
    "print(\"Element:\",d.get(k))\n",
    "\n",
    "keys = input(\"\\nEnter list of keys to create dict:\").split(\",\")\n",
    "value = input(\"Enter value:\")\n",
    "print(\"Dictionary:\",dict.fromkeys(keys,value))\n",
    "\n",
    "print(\"\\nDictionary Items:\", d.items())\n",
    "\n",
    "print(\"\\nDictionary Keys:\", d.keys())\n",
    "\n",
    "k = input(\"\\nEnter key to pop:\")\n",
    "print(\"Popped: \",d.pop(k))\n",
    "print(\"Dict:\",d)\n",
    "\n",
    "print(\"\\nPopped Item:\",d.popitem())\n",
    "print(\"Dict:\",d)\n",
    "\n",
    "k = input(\"\\nEnter Key to Update:\")\n",
    "v = input(\"Enter Value:\")\n",
    "d.update({k:v})\n",
    "print(\"Updated List:\",d)\n",
    "\n",
    "print(\"\\nDictionary Values:\",d.values())"
   ]
  },
  {
   "cell_type": "markdown",
   "metadata": {},
   "source": [
    "### Question 3 (Sets)"
   ]
  },
  {
   "cell_type": "code",
   "execution_count": 5,
   "metadata": {},
   "outputs": [
    {
     "name": "stdout",
     "output_type": "stream",
     "text": [
      "SET: {'kiwi', 'apple', 'grapes', 'banana', 'sweet lime', 'orange'}\n",
      "\n",
      "Enter Element to add:papaya\n",
      "Set: {'kiwi', 'apple', 'papaya', 'grapes', 'banana', 'sweet lime', 'orange'}\n",
      "\n",
      "Enter Element to remove:banana\n",
      "Set: {'kiwi', 'apple', 'papaya', 'grapes', 'sweet lime', 'orange'}\n",
      "\n",
      "Popped Element: kiwi\n",
      "Set: {'apple', 'papaya', 'grapes', 'sweet lime', 'orange'}\n",
      "\n",
      "Set1: {'apple', 'papaya', 'grapes', 'sweet lime', 'orange'}\n",
      "Set2: {'watermelon', 'kiwi', 'papaya', 'pear', 'grapes', 'tomato'}\n",
      "\n",
      "Union:  {'watermelon', 'kiwi', 'apple', 'sweet lime', 'papaya', 'pear', 'grapes', 'tomato', 'orange'}\n",
      "\n",
      "Intersection:  {'grapes', 'papaya'}\n",
      "\n",
      "Difference:  {'apple', 'orange', 'sweet lime'}\n",
      "\n",
      "Set1 and Set2 are disjoint:  False\n",
      "\n",
      "SuperSet:  False\n",
      "\n",
      "Subset:  False\n"
     ]
    }
   ],
   "source": [
    "set1 = {\"orange\",\"banana\",\"kiwi\",\"apple\",\"sweet lime\",\"grapes\"}\n",
    "print(\"SET:\",set1)\n",
    "\n",
    "s = input(\"\\nEnter Element to add:\")\n",
    "set1.add(s)\n",
    "print(\"Set:\",set1)\n",
    "\n",
    "r = input(\"\\nEnter Element to remove:\")\n",
    "set1.remove(r)\n",
    "print(\"Set:\",set1)\n",
    "\n",
    "print(\"\\nPopped Element:\",set1.pop())\n",
    "print(\"Set:\",set1)\n",
    "\n",
    "set2  = {\"tomato\",\"pear\",\"watermelon\",\"kiwi\",\"grapes\",\"papaya\"}\n",
    "print(\"\\nSet1:\",set1)\n",
    "print(\"Set2:\",set2)\n",
    "\n",
    "print(\"\\nUnion: \", set1.union(set2))\n",
    "print(\"\\nIntersection: \", set1.intersection(set2))\n",
    "print(\"\\nDifference: \", set1.difference(set2))\n",
    "\n",
    "print(\"\\nSet1 and Set2 are disjoint: \",set1.isdisjoint(set2))\n",
    "print(\"\\nSuperSet: \", set1.issuperset(set2))\n",
    "print(\"\\nSubset: \", set1.issubset(set2))"
   ]
  },
  {
   "cell_type": "markdown",
   "metadata": {},
   "source": [
    "### Question 4 (Tuple)"
   ]
  },
  {
   "cell_type": "code",
   "execution_count": 9,
   "metadata": {},
   "outputs": [
    {
     "name": "stdout",
     "output_type": "stream",
     "text": [
      "Tuple: (45, 34, 0, 89, 72, 12, 34, 100, 58, 34)\n",
      "\n",
      "Enter Element to find count:34\n",
      "Element Count: 3\n",
      "\n",
      "Enter Element to find index:100\n",
      "Index: 7\n"
     ]
    }
   ],
   "source": [
    "tup = (45,34,0,89,72,12,34,100,58,34)\n",
    "print(\"Tuple:\",tup)\n",
    "\n",
    "e = int(input(\"\\nEnter Element to find count:\"))\n",
    "print(\"Element Count:\",tup.count(e))\n",
    "\n",
    "i = int(input(\"\\nEnter Element to find index:\"))\n",
    "print(\"Index:\", tup.index(i))"
   ]
  },
  {
   "cell_type": "markdown",
   "metadata": {},
   "source": [
    "### Question 5 (String)\n"
   ]
  },
  {
   "cell_type": "code",
   "execution_count": 10,
   "metadata": {},
   "outputs": [
    {
     "name": "stdout",
     "output_type": "stream",
     "text": [
      "Enter String:Hello, My name is Glenn Vednesan.\n",
      "Capitalised String: Hello, my name is glenn vednesan.\n",
      "\n",
      "Uppercase String: HELLO, MY NAME IS GLENN VEDNESAN.\n",
      "\n",
      "Lowercase String: hello, my name is glenn vednesan.\n",
      "\n",
      "Enter Split Character:e\n",
      "Split String: ['H', 'llo, My nam', ' is Gl', 'nn V', 'dn', 'san.']\n",
      "\n",
      "Space REPLACED by **: Hello,**My**name**is**Glenn**Vednesan.\n",
      "\n",
      "Find first index of:n\n",
      "first Index of n is: 10\n",
      "\n",
      "Find last index of:n\n",
      "last index of n is: 31\n",
      "\n",
      "Enter partition String:name\n",
      "Partition: ('Hello, My ', 'name', ' is Glenn Vednesan.')\n",
      "\n",
      "translation: {97: 33, 101: 64, 105: 35, 111: 36, 117: 37}\n",
      "Translated String: H@ll$, My n!m@ #s Gl@nn V@dn@s!n.\n",
      "\n",
      "Enter Start String:Hel\n",
      "Starts with Hel : True\n",
      "\n",
      "Enter End String:an.\n",
      "Ends with an. : True\n",
      "\n",
      "String is Uppercase: False\n",
      "\n",
      "String is lowercase: False\n",
      "\n",
      "Tuple: ('Good', 'Morning')\n",
      "Token: %%\n",
      "Joined String: Good%%Morning\n"
     ]
    }
   ],
   "source": [
    "str = input(\"Enter String:\")\n",
    "print(\"Capitalised String:\",str.capitalize())\n",
    "\n",
    "print(\"\\nUppercase String:\",str.upper())\n",
    "\n",
    "print(\"\\nLowercase String:\",str.lower())\n",
    "\n",
    "s= input(\"\\nEnter Split Character:\")\n",
    "print(\"Split String:\",str.split(s))\n",
    "\n",
    "print(\"\\nSpace REPLACED by **:\",str.replace(\" \", \"**\"))\n",
    "\n",
    "a = input(\"\\nFind first index of:\")\n",
    "print(\"first Index of\",a,\"is:\",str.index(a))\n",
    "\n",
    "l = input(\"\\nFind last index of:\")\n",
    "print(\"last index of\",l,\"is:\",str.rindex(l))\n",
    "\n",
    "p = input(\"\\nEnter partition String:\")\n",
    "print(\"Partition:\", str.partition(p))\n",
    "\n",
    "inputStr = \"aeiou\"\n",
    "outputStr = \"!@#$%\"\n",
    "translation = str.maketrans(inputStr, outputStr)\n",
    "print(\"\\ntranslation:\",translation)\n",
    "print(\"Translated String:\", str.translate(translation))\n",
    "\n",
    "sw = input(\"\\nEnter Start String:\")\n",
    "print(\"Starts with\",sw,\":\",str.startswith(sw))\n",
    "\n",
    "ew = input(\"\\nEnter End String:\")\n",
    "print(\"Ends with\",ew,\":\",str.endswith(ew))\n",
    "\n",
    "print(\"\\nString is Uppercase:\",str.isupper())\n",
    "\n",
    "print(\"\\nString is lowercase:\",str.islower())\n",
    "\n",
    "tup=(\"Good\",\"Morning\")\n",
    "print(\"\\nTuple:\",tup)\n",
    "token = \"%%\"\n",
    "print(\"Token:\",token)\n",
    "print(\"Joined String:\",token.join(tup))"
   ]
  },
  {
   "cell_type": "code",
   "execution_count": null,
   "metadata": {},
   "outputs": [],
   "source": []
  }
 ],
 "metadata": {
  "kernelspec": {
   "display_name": "Python 3",
   "language": "python",
   "name": "python3"
  },
  "language_info": {
   "codemirror_mode": {
    "name": "ipython",
    "version": 3
   },
   "file_extension": ".py",
   "mimetype": "text/x-python",
   "name": "python",
   "nbconvert_exporter": "python",
   "pygments_lexer": "ipython3",
   "version": "3.7.6"
  }
 },
 "nbformat": 4,
 "nbformat_minor": 4
}
