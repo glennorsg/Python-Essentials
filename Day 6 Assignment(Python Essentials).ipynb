{
 "cells": [
  {
   "cell_type": "markdown",
   "metadata": {},
   "source": [
    "### Question 1 (Bank Account Class)"
   ]
  },
  {
   "cell_type": "code",
   "execution_count": 4,
   "metadata": {},
   "outputs": [],
   "source": [
    "class Bank_Account:\n",
    "    def __init__(self, ownerName, balance = 0):\n",
    "        self.ownerName = ownerName\n",
    "        self.balance = balance\n",
    "    \n",
    "    def deposite(self, amount):\n",
    "        self.balance  += amount\n",
    "        print(\"Amount Deposited Successfully!\")\n",
    "    \n",
    "    def withdraw(self, amount):\n",
    "        if self.balance >= amount:\n",
    "            self.balance -= amount\n",
    "            print(amount, \" Withdrawn!\")\n",
    "        else:\n",
    "            print(\"Insufficient Funds!!\")\n",
    "    "
   ]
  },
  {
   "cell_type": "code",
   "execution_count": 2,
   "metadata": {},
   "outputs": [],
   "source": [
    " acc = Bank_Account(\"Glenn Vennesan\")"
   ]
  },
  {
   "cell_type": "code",
   "execution_count": 3,
   "metadata": {},
   "outputs": [
    {
     "name": "stdout",
     "output_type": "stream",
     "text": [
      "Welcome  Glenn Vennesan \n",
      "\n",
      "\n",
      "1.View Balance\n",
      "2.Deposite\n",
      "3.Withdraw\n",
      "4.Exit\n",
      "Enter Option number:1\n",
      "\n",
      "Balance: 0 \n",
      "\n",
      "1.View Balance\n",
      "2.Deposite\n",
      "3.Withdraw\n",
      "4.Exit\n",
      "Enter Option number:2\n",
      "\n",
      "Deposite:\n",
      "Enter Amount to Deposite:10000\n",
      "Amount Deposited Successfully!\n",
      "\n",
      "1.View Balance\n",
      "2.Deposite\n",
      "3.Withdraw\n",
      "4.Exit\n",
      "Enter Option number:3\n",
      "\n",
      "Withdrawal:\n",
      "Enter Amount to Withdraw:8000\n",
      "8000.0  Withdrawn!\n",
      "\n",
      "1.View Balance\n",
      "2.Deposite\n",
      "3.Withdraw\n",
      "4.Exit\n",
      "Enter Option number:1\n",
      "\n",
      "Balance: 2000.0 \n",
      "\n",
      "1.View Balance\n",
      "2.Deposite\n",
      "3.Withdraw\n",
      "4.Exit\n",
      "Enter Option number:2\n",
      "\n",
      "Deposite:\n",
      "Enter Amount to Deposite:500\n",
      "Amount Deposited Successfully!\n",
      "\n",
      "1.View Balance\n",
      "2.Deposite\n",
      "3.Withdraw\n",
      "4.Exit\n",
      "Enter Option number:1\n",
      "\n",
      "Balance: 2500.0 \n",
      "\n",
      "1.View Balance\n",
      "2.Deposite\n",
      "3.Withdraw\n",
      "4.Exit\n",
      "Enter Option number:3\n",
      "\n",
      "Withdrawal:\n",
      "Enter Amount to Withdraw:4000\n",
      "Insufficient Funds!!\n",
      "\n",
      "1.View Balance\n",
      "2.Deposite\n",
      "3.Withdraw\n",
      "4.Exit\n",
      "Enter Option number:1\n",
      "\n",
      "Balance: 2500.0 \n",
      "\n",
      "1.View Balance\n",
      "2.Deposite\n",
      "3.Withdraw\n",
      "4.Exit\n",
      "Enter Option number:4\n",
      "Thank you for using our service!\n"
     ]
    }
   ],
   "source": [
    "opt = 0\n",
    "print(\"Welcome \", acc.ownerName, \"\\n\")\n",
    "while(opt != 4):\n",
    "    print(\"\\n1.View Balance\\n2.Deposite\\n3.Withdraw\\n4.Exit\")\n",
    "    opt = int(input(\"Enter Option number:\"))\n",
    "    if opt == 1:\n",
    "        print(\"\\nBalance:\",acc.balance,\"\")\n",
    "    elif opt == 2:\n",
    "        print(\"\\nDeposite:\")\n",
    "        amount = float(input(\"Enter Amount to Deposite:\"))\n",
    "        acc.deposite(amount)\n",
    "    elif opt == 3:\n",
    "        print(\"\\nWithdrawal:\")\n",
    "        amount = float(input(\"Enter Amount to Withdraw:\"))\n",
    "        acc.withdraw(amount)\n",
    "    elif opt == 4:\n",
    "        print(\"Thank you for using our service!\")\n",
    "        "
   ]
  },
  {
   "cell_type": "code",
   "execution_count": null,
   "metadata": {},
   "outputs": [],
   "source": []
  },
  {
   "cell_type": "code",
   "execution_count": null,
   "metadata": {},
   "outputs": [],
   "source": []
  }
 ],
 "metadata": {
  "kernelspec": {
   "display_name": "Python 3",
   "language": "python",
   "name": "python3"
  },
  "language_info": {
   "codemirror_mode": {
    "name": "ipython",
    "version": 3
   },
   "file_extension": ".py",
   "mimetype": "text/x-python",
   "name": "python",
   "nbconvert_exporter": "python",
   "pygments_lexer": "ipython3",
   "version": "3.7.6"
  }
 },
 "nbformat": 4,
 "nbformat_minor": 4
}
