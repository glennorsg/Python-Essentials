{
 "cells": [
  {
   "cell_type": "markdown",
   "metadata": {},
   "source": [
    "### Question 1 (Find Sequence in Array)"
   ]
  },
  {
   "cell_type": "code",
   "execution_count": 14,
   "metadata": {
    "code_folding": []
   },
   "outputs": [
    {
     "name": "stdout",
     "output_type": "stream",
     "text": [
      "Enter the list of numbers:4,2,2,3,5,5,7,7,3,3,6,8,4,21,1,6,8,8,10,9\n",
      "Enter the Pattern:30,9,10\n",
      "SEQ: [4, 2, 2, 3, 5, 5, 7, 7, 3, 3, 6, 8, 4, 21, 1, 6, 8, 8, 10, 9]\n",
      "PATTERN: [30, 9, 10]\n",
      "It is Gone!!\n"
     ]
    }
   ],
   "source": [
    "seq = input(\"Enter the list of numbers:\")\n",
    "pat = input(\"Enter the Pattern:\")\n",
    "seq = list(map(lambda x: int(x), seq.split(',')))\n",
    "pat = list(map(lambda x: int(x), pat.split(',')))\n",
    "print(\"SEQ:\", seq)\n",
    "print(\"PATTERN:\", pat)\n",
    "j = 0\n",
    "for i in seq:\n",
    "    if j == len(pat):\n",
    "        print(\"It is a Match!!\")\n",
    "        break\n",
    "    if i == pat[j]:\n",
    "        j = j + 1\n",
    "else:\n",
    "    print(\"It is Gone!!\")"
   ]
  },
  {
   "cell_type": "markdown",
   "metadata": {},
   "source": [
    "Enter the list of numbers:4,2,2,3,5,5,7,7,3,3,6,8,4,21,1,6,8,8,10,9\n",
    "\n",
    "Enter the Pattern:5,1,8\n",
    "\n",
    "SEQ: [4, 2, 2, 3, 5, 5, 7, 7, 3, 3, 6, 8, 4, 21, 1, 6, 8, 8, 10, 9]\n",
    "\n",
    "PATTERN: [5, 1, 8]\n",
    "\n",
    "It is a Match!!"
   ]
  },
  {
   "cell_type": "markdown",
   "metadata": {},
   "source": [
    "### Question 2 (Prime numbers using filters)"
   ]
  },
  {
   "cell_type": "code",
   "execution_count": 19,
   "metadata": {},
   "outputs": [
    {
     "name": "stdout",
     "output_type": "stream",
     "text": [
      "The prime numbers between 1-1000 are:\n",
      "1 is not a prime number!!\n",
      "[2, 3, 5, 7, 11, 13, 17, 19, 23, 29, 31, 37, 41, 43, 47, 53, 59, 61, 67, 71, 73, 79, 83, 89, 97, 101, 103, 107, 109, 113, 127, 131, 137, 139, 149, 151, 157, 163, 167, 173, 179, 181, 191, 193, 197, 199, 211, 223, 227, 229, 233, 239, 241, 251, 257, 263, 269, 271, 277, 281, 283, 293, 307, 311, 313, 317, 331, 337, 347, 349, 353, 359, 367, 373, 379, 383, 389, 397, 401, 409, 419, 421, 431, 433, 439, 443, 449, 457, 461, 463, 467, 479, 487, 491, 499, 503, 509, 521, 523, 541, 547, 557, 563, 569, 571, 577, 587, 593, 599, 601, 607, 613, 617, 619, 631, 641, 643, 647, 653, 659, 661, 673, 677, 683, 691, 701, 709, 719, 727, 733, 739, 743, 751, 757, 761, 769, 773, 787, 797, 809, 811, 821, 823, 827, 829, 839, 853, 857, 859, 863, 877, 881, 883, 887, 907, 911, 919, 929, 937, 941, 947, 953, 967, 971, 977, 983, 991, 997]\n"
     ]
    }
   ],
   "source": [
    "def isPrime(n):\n",
    "    if n == 1:\n",
    "        print(\"1 is not a prime number!!\")\n",
    "        return\n",
    "    for i in range(2,n):\n",
    "        if n%i == 0:\n",
    "            break\n",
    "    else:\n",
    "        return n\n",
    "print(\"The prime numbers between 1-1000 are:\")\n",
    "lst = list(filter(isPrime, range(1,1001)))\n",
    "print(lst)"
   ]
  },
  {
   "cell_type": "markdown",
   "metadata": {},
   "source": [
    "### Question 3 (Convert String list to upper case)"
   ]
  },
  {
   "cell_type": "code",
   "execution_count": 22,
   "metadata": {},
   "outputs": [
    {
     "name": "stdout",
     "output_type": "stream",
     "text": [
      "Hello\n",
      "I Am Glenn Vednesan\n",
      "I Am From Pune\n",
      "I Love To Sing And Dance\n",
      "I Love Programming\n"
     ]
    }
   ],
   "source": [
    "strlist = [\"hello\", \"i am glenn vednesan\", \"i am from pune\", \"i love to sing and dance\", \"i love programming\"]\n",
    "strlist = list(map(lambda str: str.title(), strlist))\n",
    "for i in strlist:\n",
    "    print(i)"
   ]
  },
  {
   "cell_type": "code",
   "execution_count": null,
   "metadata": {},
   "outputs": [],
   "source": []
  }
 ],
 "metadata": {
  "kernelspec": {
   "display_name": "Python 3",
   "language": "python",
   "name": "python3"
  },
  "language_info": {
   "codemirror_mode": {
    "name": "ipython",
    "version": 3
   },
   "file_extension": ".py",
   "mimetype": "text/x-python",
   "name": "python",
   "nbconvert_exporter": "python",
   "pygments_lexer": "ipython3",
   "version": "3.7.6"
  }
 },
 "nbformat": 4,
 "nbformat_minor": 4
}
